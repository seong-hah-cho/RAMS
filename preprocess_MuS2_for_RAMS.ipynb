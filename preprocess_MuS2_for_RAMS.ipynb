{
 "cells": [
  {
   "cell_type": "code",
   "execution_count": 52,
   "metadata": {},
   "outputs": [],
   "source": [
    "import glob\n",
    "\n",
    "import numpy as np\n",
    "import os\n",
    "from PIL import Image\n",
    "import rasterio\n",
    "\n",
    "from tqdm.notebook import tqdm"
   ]
  },
  {
   "cell_type": "code",
   "execution_count": 57,
   "metadata": {},
   "outputs": [],
   "source": [
    "def get_sentinel_files(root_folder):\n",
    "    sentinel_files = []\n",
    "    # Get all .jp2 files in the b2, b3, and b4 directories\n",
    "    files_b2 = sorted(glob.glob(os.path.join(root_folder, 'b2', 'lrs', '*.jp2')))\n",
    "    files_b3 = sorted(glob.glob(os.path.join(root_folder, 'b3',  'lrs', '*.jp2')))\n",
    "    files_b4 = sorted(glob.glob(os.path.join(root_folder, 'b4',  'lrs', '*.jp2')))\n",
    "            \n",
    "    # Ensure each band has the same number of files and corresponding names\n",
    "    if len(files_b2) == len(files_b3) == len(files_b4):\n",
    "        for f2, f3, f4 in zip(files_b2, files_b3, files_b4):\n",
    "            if os.path.basename(f2) == os.path.basename(f3) == os.path.basename(f4):\n",
    "                sentinel_files.append((f2, f3, f4))\n",
    "\n",
    "    return sentinel_files\n",
    "\n",
    "def normalize_band(band):\n",
    "    \"\"\"Normalize the band data to the range [0, 1].\"\"\"\n",
    "    band_min, band_max = band.min(), band.max()\n",
    "    return (band - band_min) / (band_max - band_min)\n",
    "\n",
    "def load_and_combine_bands(jp2_files):\n",
    "    bands = []\n",
    "    for file in jp2_files:\n",
    "        with rasterio.open(file) as src:\n",
    "            band = src.read(1)  # Read the first band\n",
    "            normalized_band = normalize_band(band)\n",
    "            bands.append(normalized_band)\n",
    "    combined_image = np.stack(bands, axis=-1)\n",
    "    return combined_image\n",
    "\n",
    "def get_patch_coordinates(image_shape, patch_size, oversample_factor=5):\n",
    "    \"\"\"Calculate patch coordinates for image tiling and random oversampling.\"\"\"\n",
    "    height, width = image_shape[:2]\n",
    "    num_patches_vertically = height // patch_size\n",
    "    num_patches_horizontally = width // patch_size\n",
    "    ordered_coords = [(i * patch_size, j * patch_size) for i in range(num_patches_vertically) for j in range(num_patches_horizontally)]\n",
    "    random_coords = [(np.random.randint(0, height - patch_size), np.random.randint(0, width - patch_size)) for _ in range(oversample_factor * len(ordered_coords))]\n",
    "    return ordered_coords + random_coords\n",
    "\n",
    "def extract_patch(image, top_left, patch_size):\n",
    "    \"\"\"Extract a patch from the image.\"\"\"\n",
    "    x, y = top_left\n",
    "    return image[x:x+patch_size, y:y+patch_size]\n",
    "\n",
    "def save_patches(patches, base_filename, folder):\n",
    "    \"\"\"Save image patches to a specified folder, possibly converting to 8-bit format.\"\"\"\n",
    "    os.makedirs(folder, exist_ok=True)\n",
    "    for idx, patch in enumerate(patches):\n",
    "        # Determine the current bit depth of the patch\n",
    "        if patch.dtype == np.uint16:\n",
    "            # Convert 16-bit to 8-bit\n",
    "            patch_8bit = (patch / 256).astype(np.uint8)\n",
    "        elif patch.dtype == np.uint8:\n",
    "            patch_8bit = patch\n",
    "        elif patch.dtype == np.float64:\n",
    "            # Scale the patch to 0-255 and convert to uint8\n",
    "            patch_8bit = (patch * 255).astype(np.uint8)\n",
    "        else:\n",
    "            # For other types, you might want to add specific handling\n",
    "            raise ValueError(f\"Unsupported image data type: {patch.dtype}\")\n",
    "\n",
    "        patch_image = Image.fromarray(patch_8bit)\n",
    "        patch_image.save(os.path.join(folder, f'{base_filename}.png'))\n",
    "\n",
    "def process_folder(sentinel_folder, hr_folder, output_folder, patch_size=256, hr_patch_size=768):\n",
    "    \"\"\"Process Sentinel and HR images, extract and save patches.\"\"\"\n",
    "    shape = (0, 0, 0)\n",
    "    folder_counts = 1\n",
    "\n",
    "    sentinel_files = get_sentinel_files(sentinel_folder)\n",
    "    hr_files = sorted([\n",
    "        os.path.join(hr_folder, f) \n",
    "        for f in os.listdir(hr_folder) \n",
    "        if (f.endswith('_2.tiff') or f.endswith('_3.tiff') or f.endswith('_4.tiff'))\n",
    "    ])\n",
    "\n",
    "    for idx, (sentinel_bands) in tqdm(enumerate(sentinel_files)):\n",
    "        sentinel_image = load_and_combine_bands(sentinel_bands)\n",
    "        hr_image = load_and_combine_bands(hr_files)\n",
    "\n",
    "        if shape != sentinel_image.shape:\n",
    "            # Patch coordinates\n",
    "            patch_coordinates = get_patch_coordinates(sentinel_image.shape, patch_size)\n",
    "            shape = sentinel_image.shape\n",
    "\n",
    "            folder_name = folder_counts * 100\n",
    "            folder_counts = folder_counts + 1\n",
    "\n",
    "        for patch_idx, coord in enumerate(patch_coordinates):\n",
    "            # Extract and save Sentinel patch\n",
    "            sentinel_patch = extract_patch(sentinel_image, coord, patch_size)\n",
    "            save_patches([sentinel_patch], f'LR{idx}', os.path.join(output_folder, f'imgset{folder_name + patch_idx}'))\n",
    "\n",
    "            # Extract and save HR patch\n",
    "            hr_coord = (coord[0] * 3, coord[1] * 3)  # Scale factor of 3\n",
    "            hr_patch = extract_patch(hr_image, hr_coord, hr_patch_size)\n",
    "            save_patches([hr_patch], 'HR', os.path.join(output_folder, f'imgset{folder_name + patch_idx}'))\n",
    "\n",
    "            # Save mask patch\n",
    "            array = np.full((256, 256), 255, dtype=np.uint8)\n",
    "            image = Image.fromarray(array)\n",
    "            image.save(os.path.join(output_folder, f'imgset{folder_name + patch_idx}', f'QM{idx}.png'))\n"
   ]
  },
  {
   "cell_type": "code",
   "execution_count": 58,
   "metadata": {},
   "outputs": [
    {
     "data": {
      "application/vnd.jupyter.widget-view+json": {
       "model_id": "1c3de09dd60d458d8884bf5bc000bd05",
       "version_major": 2,
       "version_minor": 0
      },
      "text/plain": [
       "0it [00:00, ?it/s]"
      ]
     },
     "metadata": {},
     "output_type": "display_data"
    },
    {
     "name": "stderr",
     "output_type": "stream",
     "text": [
      "c:\\Users\\admin\\mambaforge\\envs\\Satellite\\lib\\site-packages\\rasterio\\__init__.py:331: NotGeoreferencedWarning: Dataset has no geotransform, gcps, or rpcs. The identity matrix will be returned.\n",
      "  dataset = DatasetReader(path, driver=driver, sharing=sharing, **kwargs)\n"
     ]
    },
    {
     "data": {
      "application/vnd.jupyter.widget-view+json": {
       "model_id": "7e680d6723e9411ba5e9c1fdb03abadb",
       "version_major": 2,
       "version_minor": 0
      },
      "text/plain": [
       "0it [00:00, ?it/s]"
      ]
     },
     "metadata": {},
     "output_type": "display_data"
    },
    {
     "data": {
      "application/vnd.jupyter.widget-view+json": {
       "model_id": "434a08cdfff2447d92a939cc3ba86f2f",
       "version_major": 2,
       "version_minor": 0
      },
      "text/plain": [
       "0it [00:00, ?it/s]"
      ]
     },
     "metadata": {},
     "output_type": "display_data"
    },
    {
     "data": {
      "application/vnd.jupyter.widget-view+json": {
       "model_id": "75419fc1a4d94faaaa87a301995cba9f",
       "version_major": 2,
       "version_minor": 0
      },
      "text/plain": [
       "0it [00:00, ?it/s]"
      ]
     },
     "metadata": {},
     "output_type": "display_data"
    },
    {
     "data": {
      "application/vnd.jupyter.widget-view+json": {
       "model_id": "82ed431adfc642538a8abdee4f2416d9",
       "version_major": 2,
       "version_minor": 0
      },
      "text/plain": [
       "0it [00:00, ?it/s]"
      ]
     },
     "metadata": {},
     "output_type": "display_data"
    },
    {
     "ename": "KeyboardInterrupt",
     "evalue": "",
     "output_type": "error",
     "traceback": [
      "\u001b[1;31m---------------------------------------------------------------------------\u001b[0m",
      "\u001b[1;31mAttributeError\u001b[0m                            Traceback (most recent call last)",
      "File \u001b[1;32mc:\\Users\\admin\\mambaforge\\envs\\Satellite\\lib\\site-packages\\PIL\\ImageFile.py:503\u001b[0m, in \u001b[0;36m_save\u001b[1;34m(im, fp, tile, bufsize)\u001b[0m\n\u001b[0;32m    502\u001b[0m \u001b[39mtry\u001b[39;00m:\n\u001b[1;32m--> 503\u001b[0m     fh \u001b[39m=\u001b[39m fp\u001b[39m.\u001b[39;49mfileno()\n\u001b[0;32m    504\u001b[0m     fp\u001b[39m.\u001b[39mflush()\n",
      "\u001b[1;31mAttributeError\u001b[0m: '_idat' object has no attribute 'fileno'",
      "\nDuring handling of the above exception, another exception occurred:\n",
      "\u001b[1;31mKeyboardInterrupt\u001b[0m                         Traceback (most recent call last)",
      "\u001b[1;32mc:\\Users\\admin\\Dropbox\\ProximityDesigns\\Satellite\\Super-resolution\\RAMS\\preprocess_MuS2_for_RAMS.ipynb Cell 3\u001b[0m line \u001b[0;36m1\n\u001b[0;32m      <a href='vscode-notebook-cell:/c%3A/Users/admin/Dropbox/ProximityDesigns/Satellite/Super-resolution/RAMS/preprocess_MuS2_for_RAMS.ipynb#W2sZmlsZQ%3D%3D?line=7'>8</a>\u001b[0m sentinel_folder \u001b[39m=\u001b[39m image_set\n\u001b[0;32m      <a href='vscode-notebook-cell:/c%3A/Users/admin/Dropbox/ProximityDesigns/Satellite/Super-resolution/RAMS/preprocess_MuS2_for_RAMS.ipynb#W2sZmlsZQ%3D%3D?line=8'>9</a>\u001b[0m hr_folder \u001b[39m=\u001b[39m os\u001b[39m.\u001b[39mpath\u001b[39m.\u001b[39mjoin(image_set, \u001b[39m'\u001b[39m\u001b[39mhr_resized\u001b[39m\u001b[39m'\u001b[39m)\n\u001b[1;32m---> <a href='vscode-notebook-cell:/c%3A/Users/admin/Dropbox/ProximityDesigns/Satellite/Super-resolution/RAMS/preprocess_MuS2_for_RAMS.ipynb#W2sZmlsZQ%3D%3D?line=9'>10</a>\u001b[0m process_folder(sentinel_folder, hr_folder, \u001b[39m'\u001b[39;49m\u001b[39mMuS2_data/\u001b[39;49m\u001b[39m'\u001b[39;49m)\n",
      "\u001b[1;32mc:\\Users\\admin\\Dropbox\\ProximityDesigns\\Satellite\\Super-resolution\\RAMS\\preprocess_MuS2_for_RAMS.ipynb Cell 3\u001b[0m line \u001b[0;36m9\n\u001b[0;32m     <a href='vscode-notebook-cell:/c%3A/Users/admin/Dropbox/ProximityDesigns/Satellite/Super-resolution/RAMS/preprocess_MuS2_for_RAMS.ipynb#W2sZmlsZQ%3D%3D?line=94'>95</a>\u001b[0m hr_coord \u001b[39m=\u001b[39m (coord[\u001b[39m0\u001b[39m] \u001b[39m*\u001b[39m \u001b[39m3\u001b[39m, coord[\u001b[39m1\u001b[39m] \u001b[39m*\u001b[39m \u001b[39m3\u001b[39m)  \u001b[39m# Scale factor of 3\u001b[39;00m\n\u001b[0;32m     <a href='vscode-notebook-cell:/c%3A/Users/admin/Dropbox/ProximityDesigns/Satellite/Super-resolution/RAMS/preprocess_MuS2_for_RAMS.ipynb#W2sZmlsZQ%3D%3D?line=95'>96</a>\u001b[0m hr_patch \u001b[39m=\u001b[39m extract_patch(hr_image, hr_coord, hr_patch_size)\n\u001b[1;32m---> <a href='vscode-notebook-cell:/c%3A/Users/admin/Dropbox/ProximityDesigns/Satellite/Super-resolution/RAMS/preprocess_MuS2_for_RAMS.ipynb#W2sZmlsZQ%3D%3D?line=96'>97</a>\u001b[0m save_patches([hr_patch], \u001b[39m'\u001b[39;49m\u001b[39mHR\u001b[39;49m\u001b[39m'\u001b[39;49m, os\u001b[39m.\u001b[39;49mpath\u001b[39m.\u001b[39;49mjoin(output_folder, \u001b[39mf\u001b[39;49m\u001b[39m'\u001b[39;49m\u001b[39mimgset\u001b[39;49m\u001b[39m{\u001b[39;49;00mfolder_name\u001b[39m \u001b[39;49m\u001b[39m+\u001b[39;49m\u001b[39m \u001b[39;49mpatch_idx\u001b[39m}\u001b[39;49;00m\u001b[39m'\u001b[39;49m))\n\u001b[0;32m     <a href='vscode-notebook-cell:/c%3A/Users/admin/Dropbox/ProximityDesigns/Satellite/Super-resolution/RAMS/preprocess_MuS2_for_RAMS.ipynb#W2sZmlsZQ%3D%3D?line=98'>99</a>\u001b[0m \u001b[39m# Save mask patch\u001b[39;00m\n\u001b[0;32m    <a href='vscode-notebook-cell:/c%3A/Users/admin/Dropbox/ProximityDesigns/Satellite/Super-resolution/RAMS/preprocess_MuS2_for_RAMS.ipynb#W2sZmlsZQ%3D%3D?line=99'>100</a>\u001b[0m array \u001b[39m=\u001b[39m np\u001b[39m.\u001b[39mfull((\u001b[39m256\u001b[39m, \u001b[39m256\u001b[39m), \u001b[39m255\u001b[39m, dtype\u001b[39m=\u001b[39mnp\u001b[39m.\u001b[39muint8)\n",
      "\u001b[1;32mc:\\Users\\admin\\Dropbox\\ProximityDesigns\\Satellite\\Super-resolution\\RAMS\\preprocess_MuS2_for_RAMS.ipynb Cell 3\u001b[0m line \u001b[0;36m6\n\u001b[0;32m     <a href='vscode-notebook-cell:/c%3A/Users/admin/Dropbox/ProximityDesigns/Satellite/Super-resolution/RAMS/preprocess_MuS2_for_RAMS.ipynb#W2sZmlsZQ%3D%3D?line=59'>60</a>\u001b[0m     \u001b[39mraise\u001b[39;00m \u001b[39mValueError\u001b[39;00m(\u001b[39mf\u001b[39m\u001b[39m\"\u001b[39m\u001b[39mUnsupported image data type: \u001b[39m\u001b[39m{\u001b[39;00mpatch\u001b[39m.\u001b[39mdtype\u001b[39m}\u001b[39;00m\u001b[39m\"\u001b[39m)\n\u001b[0;32m     <a href='vscode-notebook-cell:/c%3A/Users/admin/Dropbox/ProximityDesigns/Satellite/Super-resolution/RAMS/preprocess_MuS2_for_RAMS.ipynb#W2sZmlsZQ%3D%3D?line=61'>62</a>\u001b[0m patch_image \u001b[39m=\u001b[39m Image\u001b[39m.\u001b[39mfromarray(patch_8bit)\n\u001b[1;32m---> <a href='vscode-notebook-cell:/c%3A/Users/admin/Dropbox/ProximityDesigns/Satellite/Super-resolution/RAMS/preprocess_MuS2_for_RAMS.ipynb#W2sZmlsZQ%3D%3D?line=62'>63</a>\u001b[0m patch_image\u001b[39m.\u001b[39;49msave(os\u001b[39m.\u001b[39;49mpath\u001b[39m.\u001b[39;49mjoin(folder, \u001b[39mf\u001b[39;49m\u001b[39m'\u001b[39;49m\u001b[39m{\u001b[39;49;00mbase_filename\u001b[39m}\u001b[39;49;00m\u001b[39m.png\u001b[39;49m\u001b[39m'\u001b[39;49m))\n",
      "File \u001b[1;32mc:\\Users\\admin\\mambaforge\\envs\\Satellite\\lib\\site-packages\\PIL\\Image.py:2353\u001b[0m, in \u001b[0;36mImage.save\u001b[1;34m(self, fp, format, **params)\u001b[0m\n\u001b[0;32m   2350\u001b[0m         fp \u001b[39m=\u001b[39m builtins\u001b[39m.\u001b[39mopen(filename, \u001b[39m\"\u001b[39m\u001b[39mw+b\u001b[39m\u001b[39m\"\u001b[39m)\n\u001b[0;32m   2352\u001b[0m \u001b[39mtry\u001b[39;00m:\n\u001b[1;32m-> 2353\u001b[0m     save_handler(\u001b[39mself\u001b[39;49m, fp, filename)\n\u001b[0;32m   2354\u001b[0m \u001b[39mexcept\u001b[39;00m \u001b[39mException\u001b[39;00m:\n\u001b[0;32m   2355\u001b[0m     \u001b[39mif\u001b[39;00m open_fp:\n",
      "File \u001b[1;32mc:\\Users\\admin\\mambaforge\\envs\\Satellite\\lib\\site-packages\\PIL\\PngImagePlugin.py:1397\u001b[0m, in \u001b[0;36m_save\u001b[1;34m(im, fp, filename, chunk, save_all)\u001b[0m\n\u001b[0;32m   1395\u001b[0m     _write_multiple_frames(im, fp, chunk, rawmode, default_image, append_images)\n\u001b[0;32m   1396\u001b[0m \u001b[39melse\u001b[39;00m:\n\u001b[1;32m-> 1397\u001b[0m     ImageFile\u001b[39m.\u001b[39;49m_save(im, _idat(fp, chunk), [(\u001b[39m\"\u001b[39;49m\u001b[39mzip\u001b[39;49m\u001b[39m\"\u001b[39;49m, (\u001b[39m0\u001b[39;49m, \u001b[39m0\u001b[39;49m) \u001b[39m+\u001b[39;49m im\u001b[39m.\u001b[39;49msize, \u001b[39m0\u001b[39;49m, rawmode)])\n\u001b[0;32m   1399\u001b[0m \u001b[39mif\u001b[39;00m info:\n\u001b[0;32m   1400\u001b[0m     \u001b[39mfor\u001b[39;00m info_chunk \u001b[39min\u001b[39;00m info\u001b[39m.\u001b[39mchunks:\n",
      "File \u001b[1;32mc:\\Users\\admin\\mambaforge\\envs\\Satellite\\lib\\site-packages\\PIL\\ImageFile.py:507\u001b[0m, in \u001b[0;36m_save\u001b[1;34m(im, fp, tile, bufsize)\u001b[0m\n\u001b[0;32m    505\u001b[0m     _encode_tile(im, fp, tile, bufsize, fh)\n\u001b[0;32m    506\u001b[0m \u001b[39mexcept\u001b[39;00m (\u001b[39mAttributeError\u001b[39;00m, io\u001b[39m.\u001b[39mUnsupportedOperation) \u001b[39mas\u001b[39;00m exc:\n\u001b[1;32m--> 507\u001b[0m     _encode_tile(im, fp, tile, bufsize, \u001b[39mNone\u001b[39;49;00m, exc)\n\u001b[0;32m    508\u001b[0m \u001b[39mif\u001b[39;00m \u001b[39mhasattr\u001b[39m(fp, \u001b[39m\"\u001b[39m\u001b[39mflush\u001b[39m\u001b[39m\"\u001b[39m):\n\u001b[0;32m    509\u001b[0m     fp\u001b[39m.\u001b[39mflush()\n",
      "File \u001b[1;32mc:\\Users\\admin\\mambaforge\\envs\\Satellite\\lib\\site-packages\\PIL\\ImageFile.py:526\u001b[0m, in \u001b[0;36m_encode_tile\u001b[1;34m(im, fp, tile, bufsize, fh, exc)\u001b[0m\n\u001b[0;32m    523\u001b[0m \u001b[39mif\u001b[39;00m exc:\n\u001b[0;32m    524\u001b[0m     \u001b[39m# compress to Python file-compatible object\u001b[39;00m\n\u001b[0;32m    525\u001b[0m     \u001b[39mwhile\u001b[39;00m \u001b[39mTrue\u001b[39;00m:\n\u001b[1;32m--> 526\u001b[0m         l, s, d \u001b[39m=\u001b[39m encoder\u001b[39m.\u001b[39;49mencode(bufsize)\n\u001b[0;32m    527\u001b[0m         fp\u001b[39m.\u001b[39mwrite(d)\n\u001b[0;32m    528\u001b[0m         \u001b[39mif\u001b[39;00m s:\n",
      "\u001b[1;31mKeyboardInterrupt\u001b[0m: "
     ]
    },
    {
     "ename": "",
     "evalue": "",
     "output_type": "error",
     "traceback": [
      "\u001b[1;31mThe Kernel crashed while executing code in the the current cell or a previous cell. Please review the code in the cell(s) to identify a possible cause of the failure. Click <a href='https://aka.ms/vscodeJupyterKernelCrash'>here</a> for more info. View Jupyter <a href='command:jupyter.viewOutput'>log</a> for further details."
     ]
    }
   ],
   "source": [
    "# Example usage\n",
    "root_folder = '../MuS2/image_data'\n",
    "image_sets = glob.glob(os.path.join(root_folder, '*'))\n",
    "\n",
    "image_sets = image_sets\n",
    "\n",
    "for image_set in image_sets:\n",
    "    sentinel_folder = image_set\n",
    "    hr_folder = os.path.join(image_set, 'hr_resized')\n",
    "    process_folder(sentinel_folder, hr_folder, 'MuS2_data/')"
   ]
  },
  {
   "cell_type": "code",
   "execution_count": null,
   "metadata": {},
   "outputs": [],
   "source": []
  }
 ],
 "metadata": {
  "kernelspec": {
   "display_name": "Satellite",
   "language": "python",
   "name": "python3"
  },
  "language_info": {
   "codemirror_mode": {
    "name": "ipython",
    "version": 3
   },
   "file_extension": ".py",
   "mimetype": "text/x-python",
   "name": "python",
   "nbconvert_exporter": "python",
   "pygments_lexer": "ipython3",
   "version": "3.8.18"
  }
 },
 "nbformat": 4,
 "nbformat_minor": 2
}
